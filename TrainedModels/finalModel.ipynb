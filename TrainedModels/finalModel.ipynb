{
 "cells": [
  {
   "cell_type": "code",
   "execution_count": 12,
   "metadata": {},
   "outputs": [],
   "source": [
    "import pandas as pd\n",
    "from sklearn.model_selection import train_test_split\n",
    "from sklearn.feature_extraction.text import TfidfVectorizer\n",
    "from sklearn.ensemble import RandomForestClassifier\n",
    "from sklearn.metrics import accuracy_score\n",
    "import re\n",
    "import nltk\n",
    "from nltk.corpus import stopwords \n",
    "import pickle"
   ]
  },
  {
   "cell_type": "code",
   "execution_count": 13,
   "metadata": {},
   "outputs": [],
   "source": [
    "df = pd.read_csv('../Datasets/sortedDataFrame.csv')"
   ]
  },
  {
   "cell_type": "code",
   "execution_count": 14,
   "metadata": {},
   "outputs": [],
   "source": [
    "# Find indices where 'text' column is null\n",
    "null_text_indices = df[df['text'].isnull()].index\n",
    "\n",
    "# Delete rows with null 'text'\n",
    "df.drop(null_text_indices, inplace=True)"
   ]
  },
  {
   "cell_type": "code",
   "execution_count": 15,
   "metadata": {},
   "outputs": [
    {
     "name": "stdout",
     "output_type": "stream",
     "text": [
      "Random Forest Accuracy: 0.8960317460317461\n"
     ]
    }
   ],
   "source": [
    "# Initialize TfidfVectorizer for text features\n",
    "tfidf_vectorizer_text = TfidfVectorizer()\n",
    "tfidf_vectorizer_combined_sentiment = TfidfVectorizer()\n",
    "\n",
    "# Fit and transform the 'text' feature\n",
    "X_text_features_text = tfidf_vectorizer_text.fit_transform(df['text'])\n",
    "\n",
    "# Fit and transform the 'combined_sentiment' feature\n",
    "X_text_features_combined_sentiment = tfidf_vectorizer_combined_sentiment.fit_transform(df['combined_sentiment'])\n",
    "\n",
    "# Combine text features into one feature matrix\n",
    "X = pd.concat([pd.DataFrame(X_text_features_text.toarray()), \n",
    "               pd.DataFrame(X_text_features_combined_sentiment.toarray())], axis=1)\n",
    "\n",
    "# Target variable\n",
    "y = df['label']\n",
    "\n",
    "# Split the df into training and testing sets\n",
    "X_train, X_test, y_train, y_test = train_test_split(X, y, test_size=0.2, random_state=42)\n",
    "\n",
    "# Model Selection and Training\n",
    "rf_model = RandomForestClassifier()  # Example, you can try different models\n",
    "rf_model.fit(X_train, y_train)\n",
    "\n",
    "# Model Evaluation\n",
    "y_pred_rf = rf_model.predict(X_test)\n",
    "accuracy_rf = accuracy_score(y_test, y_pred_rf)\n",
    "print(\"Random Forest Accuracy:\", accuracy_rf)"
   ]
  },
  {
   "cell_type": "code",
   "execution_count": 16,
   "metadata": {},
   "outputs": [
    {
     "name": "stdout",
     "output_type": "stream",
     "text": [
      "Predicted Label:  ['FAKE']\n"
     ]
    }
   ],
   "source": [
    "#Ukranian news about Russia\n",
    "path = \"../Datasets/test.txt\"\n",
    "with open(path, 'r', encoding = 'utf-8') as file:\n",
    "    sample_text = file.read()\n",
    "def prediction(text):\n",
    "    review = re.sub('[^a-zA-Z]', ' ', text)\n",
    "    review = review.lower().split()\n",
    "    temp = [word for word in review if word not in stopwords.words('english')]\n",
    "    text_string = ' '.join(temp)\n",
    "    return text_string\n",
    "\n",
    "text = prediction(sample_text)\n",
    "\n",
    "tfidf_sampletext = tfidf_vectorizer_text.transform([text])\n",
    "tfidf_sentiment = tfidf_vectorizer_combined_sentiment.transform([text])\n",
    "\n",
    "test_features = pd.concat([pd.DataFrame(tfidf_sampletext.toarray()), \n",
    "                           pd.DataFrame(tfidf_sentiment.toarray())], axis=1)\n",
    "samplePred = rf_model.predict(test_features)\n",
    "\n",
    "print(\"Predicted Label: \", samplePred)"
   ]
  },
  {
   "cell_type": "code",
   "execution_count": 17,
   "metadata": {},
   "outputs": [
    {
     "name": "stdout",
     "output_type": "stream",
     "text": [
      "Predicted Label:  ['REAL']\n"
     ]
    }
   ],
   "source": [
    "#CNN news about America\n",
    "path = \"../Datasets/test1.txt\"\n",
    "with open(path, 'r', encoding = 'utf-8') as file:\n",
    "    sample_text = file.read()\n",
    "def prediction(text):\n",
    "    review = re.sub('[^a-zA-Z]', ' ', text)\n",
    "    review = review.lower().split()\n",
    "    stemmed_review = [word for word in review if word not in stopwords.words('english')]\n",
    "    text_string = ' '.join(stemmed_review)\n",
    "    return text_string\n",
    "\n",
    "text = prediction(sample_text)\n",
    "\n",
    "tfidf_sampletext = tfidf_vectorizer_text.transform([text])\n",
    "tfidf_sentiment = tfidf_vectorizer_combined_sentiment.transform([text])\n",
    "\n",
    "test_features = pd.concat([pd.DataFrame(tfidf_sampletext.toarray()), \n",
    "                           pd.DataFrame(tfidf_sentiment.toarray())], axis=1)\n",
    "samplePred = rf_model.predict(test_features)\n",
    "\n",
    "print(\"Predicted Label: \", samplePred)"
   ]
  },
  {
   "cell_type": "code",
   "execution_count": 19,
   "metadata": {},
   "outputs": [],
   "source": [
    "#Dumping model as pkl\n",
    "with open('FakeNewsModel_V3.pkl', 'wb') as f:\n",
    "    pickle.dump((rf_model,tfidf_vectorizer_text,tfidf_vectorizer_combined_sentiment),f)\n",
    "\n"
   ]
  }
 ],
 "metadata": {
  "kernelspec": {
   "display_name": "Python 3",
   "language": "python",
   "name": "python3"
  },
  "language_info": {
   "codemirror_mode": {
    "name": "ipython",
    "version": 3
   },
   "file_extension": ".py",
   "mimetype": "text/x-python",
   "name": "python",
   "nbconvert_exporter": "python",
   "pygments_lexer": "ipython3",
   "version": "3.12.2"
  }
 },
 "nbformat": 4,
 "nbformat_minor": 2
}
